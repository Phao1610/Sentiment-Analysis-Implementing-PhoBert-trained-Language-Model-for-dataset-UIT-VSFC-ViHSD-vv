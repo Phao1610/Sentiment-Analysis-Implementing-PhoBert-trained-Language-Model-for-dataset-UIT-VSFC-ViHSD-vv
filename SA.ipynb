{
  "nbformat": 4,
  "nbformat_minor": 0,
  "metadata": {
    "colab": {
      "provenance": [],
      "collapsed_sections": [
        "OMK9U-ckgy1K",
        "BzNPt9Ingsy_",
        "bWuTk8YAio9u",
        "uyvoycUNzm79"
      ]
    },
    "kernelspec": {
      "name": "python3",
      "display_name": "Python 3"
    },
    "gpuClass": "standard",
    "widgets": {
      "application/vnd.jupyter.widget-state+json": {
        "1fa6f057be9c4b679b0d634918ed2b41": {
          "model_module": "@jupyter-widgets/controls",
          "model_name": "HBoxModel",
          "model_module_version": "1.5.0",
          "state": {
            "_dom_classes": [],
            "_model_module": "@jupyter-widgets/controls",
            "_model_module_version": "1.5.0",
            "_model_name": "HBoxModel",
            "_view_count": null,
            "_view_module": "@jupyter-widgets/controls",
            "_view_module_version": "1.5.0",
            "_view_name": "HBoxView",
            "box_style": "",
            "children": [
              "IPY_MODEL_44d23963bd7d4585b7ef6d13da888abe",
              "IPY_MODEL_e1b997be344c40dfb4df60fa9e307d71",
              "IPY_MODEL_eece311be61f4ac685633d4682206a5c"
            ],
            "layout": "IPY_MODEL_5bf4311ca6954f02800db981dda8e4c3"
          }
        },
        "44d23963bd7d4585b7ef6d13da888abe": {
          "model_module": "@jupyter-widgets/controls",
          "model_name": "HTMLModel",
          "model_module_version": "1.5.0",
          "state": {
            "_dom_classes": [],
            "_model_module": "@jupyter-widgets/controls",
            "_model_module_version": "1.5.0",
            "_model_name": "HTMLModel",
            "_view_count": null,
            "_view_module": "@jupyter-widgets/controls",
            "_view_module_version": "1.5.0",
            "_view_name": "HTMLView",
            "description": "",
            "description_tooltip": null,
            "layout": "IPY_MODEL_be144b96e9414acf93339bbeffb15cbe",
            "placeholder": "​",
            "style": "IPY_MODEL_92631a439b384935a19e20eece45e13f",
            "value": ""
          }
        },
        "e1b997be344c40dfb4df60fa9e307d71": {
          "model_module": "@jupyter-widgets/controls",
          "model_name": "FloatProgressModel",
          "model_module_version": "1.5.0",
          "state": {
            "_dom_classes": [],
            "_model_module": "@jupyter-widgets/controls",
            "_model_module_version": "1.5.0",
            "_model_name": "FloatProgressModel",
            "_view_count": null,
            "_view_module": "@jupyter-widgets/controls",
            "_view_module_version": "1.5.0",
            "_view_name": "ProgressView",
            "bar_style": "success",
            "description": "",
            "description_tooltip": null,
            "layout": "IPY_MODEL_399eb09fd9b844368ab2e3cb2cfdac8c",
            "max": 1,
            "min": 0,
            "orientation": "horizontal",
            "style": "IPY_MODEL_d344a73f7f764030a5456eafeee8a062",
            "value": 1
          }
        },
        "eece311be61f4ac685633d4682206a5c": {
          "model_module": "@jupyter-widgets/controls",
          "model_name": "HTMLModel",
          "model_module_version": "1.5.0",
          "state": {
            "_dom_classes": [],
            "_model_module": "@jupyter-widgets/controls",
            "_model_module_version": "1.5.0",
            "_model_name": "HTMLModel",
            "_view_count": null,
            "_view_module": "@jupyter-widgets/controls",
            "_view_module_version": "1.5.0",
            "_view_name": "HTMLView",
            "description": "",
            "description_tooltip": null,
            "layout": "IPY_MODEL_c753b5b6bb334d7d8ee0858f9e986242",
            "placeholder": "​",
            "style": "IPY_MODEL_db6bfe3c01be4b03becd9316f50e954b",
            "value": " 1401/? [14:34&lt;00:00,  1.65it/s]"
          }
        },
        "5bf4311ca6954f02800db981dda8e4c3": {
          "model_module": "@jupyter-widgets/base",
          "model_name": "LayoutModel",
          "model_module_version": "1.2.0",
          "state": {
            "_model_module": "@jupyter-widgets/base",
            "_model_module_version": "1.2.0",
            "_model_name": "LayoutModel",
            "_view_count": null,
            "_view_module": "@jupyter-widgets/base",
            "_view_module_version": "1.2.0",
            "_view_name": "LayoutView",
            "align_content": null,
            "align_items": null,
            "align_self": null,
            "border": null,
            "bottom": null,
            "display": null,
            "flex": null,
            "flex_flow": null,
            "grid_area": null,
            "grid_auto_columns": null,
            "grid_auto_flow": null,
            "grid_auto_rows": null,
            "grid_column": null,
            "grid_gap": null,
            "grid_row": null,
            "grid_template_areas": null,
            "grid_template_columns": null,
            "grid_template_rows": null,
            "height": null,
            "justify_content": null,
            "justify_items": null,
            "left": null,
            "margin": null,
            "max_height": null,
            "max_width": null,
            "min_height": null,
            "min_width": null,
            "object_fit": null,
            "object_position": null,
            "order": null,
            "overflow": null,
            "overflow_x": null,
            "overflow_y": null,
            "padding": null,
            "right": null,
            "top": null,
            "visibility": null,
            "width": null
          }
        },
        "be144b96e9414acf93339bbeffb15cbe": {
          "model_module": "@jupyter-widgets/base",
          "model_name": "LayoutModel",
          "model_module_version": "1.2.0",
          "state": {
            "_model_module": "@jupyter-widgets/base",
            "_model_module_version": "1.2.0",
            "_model_name": "LayoutModel",
            "_view_count": null,
            "_view_module": "@jupyter-widgets/base",
            "_view_module_version": "1.2.0",
            "_view_name": "LayoutView",
            "align_content": null,
            "align_items": null,
            "align_self": null,
            "border": null,
            "bottom": null,
            "display": null,
            "flex": null,
            "flex_flow": null,
            "grid_area": null,
            "grid_auto_columns": null,
            "grid_auto_flow": null,
            "grid_auto_rows": null,
            "grid_column": null,
            "grid_gap": null,
            "grid_row": null,
            "grid_template_areas": null,
            "grid_template_columns": null,
            "grid_template_rows": null,
            "height": null,
            "justify_content": null,
            "justify_items": null,
            "left": null,
            "margin": null,
            "max_height": null,
            "max_width": null,
            "min_height": null,
            "min_width": null,
            "object_fit": null,
            "object_position": null,
            "order": null,
            "overflow": null,
            "overflow_x": null,
            "overflow_y": null,
            "padding": null,
            "right": null,
            "top": null,
            "visibility": null,
            "width": null
          }
        },
        "92631a439b384935a19e20eece45e13f": {
          "model_module": "@jupyter-widgets/controls",
          "model_name": "DescriptionStyleModel",
          "model_module_version": "1.5.0",
          "state": {
            "_model_module": "@jupyter-widgets/controls",
            "_model_module_version": "1.5.0",
            "_model_name": "DescriptionStyleModel",
            "_view_count": null,
            "_view_module": "@jupyter-widgets/base",
            "_view_module_version": "1.2.0",
            "_view_name": "StyleView",
            "description_width": ""
          }
        },
        "399eb09fd9b844368ab2e3cb2cfdac8c": {
          "model_module": "@jupyter-widgets/base",
          "model_name": "LayoutModel",
          "model_module_version": "1.2.0",
          "state": {
            "_model_module": "@jupyter-widgets/base",
            "_model_module_version": "1.2.0",
            "_model_name": "LayoutModel",
            "_view_count": null,
            "_view_module": "@jupyter-widgets/base",
            "_view_module_version": "1.2.0",
            "_view_name": "LayoutView",
            "align_content": null,
            "align_items": null,
            "align_self": null,
            "border": null,
            "bottom": null,
            "display": null,
            "flex": null,
            "flex_flow": null,
            "grid_area": null,
            "grid_auto_columns": null,
            "grid_auto_flow": null,
            "grid_auto_rows": null,
            "grid_column": null,
            "grid_gap": null,
            "grid_row": null,
            "grid_template_areas": null,
            "grid_template_columns": null,
            "grid_template_rows": null,
            "height": null,
            "justify_content": null,
            "justify_items": null,
            "left": null,
            "margin": null,
            "max_height": null,
            "max_width": null,
            "min_height": null,
            "min_width": null,
            "object_fit": null,
            "object_position": null,
            "order": null,
            "overflow": null,
            "overflow_x": null,
            "overflow_y": null,
            "padding": null,
            "right": null,
            "top": null,
            "visibility": null,
            "width": "20px"
          }
        },
        "d344a73f7f764030a5456eafeee8a062": {
          "model_module": "@jupyter-widgets/controls",
          "model_name": "ProgressStyleModel",
          "model_module_version": "1.5.0",
          "state": {
            "_model_module": "@jupyter-widgets/controls",
            "_model_module_version": "1.5.0",
            "_model_name": "ProgressStyleModel",
            "_view_count": null,
            "_view_module": "@jupyter-widgets/base",
            "_view_module_version": "1.2.0",
            "_view_name": "StyleView",
            "bar_color": null,
            "description_width": ""
          }
        },
        "c753b5b6bb334d7d8ee0858f9e986242": {
          "model_module": "@jupyter-widgets/base",
          "model_name": "LayoutModel",
          "model_module_version": "1.2.0",
          "state": {
            "_model_module": "@jupyter-widgets/base",
            "_model_module_version": "1.2.0",
            "_model_name": "LayoutModel",
            "_view_count": null,
            "_view_module": "@jupyter-widgets/base",
            "_view_module_version": "1.2.0",
            "_view_name": "LayoutView",
            "align_content": null,
            "align_items": null,
            "align_self": null,
            "border": null,
            "bottom": null,
            "display": null,
            "flex": null,
            "flex_flow": null,
            "grid_area": null,
            "grid_auto_columns": null,
            "grid_auto_flow": null,
            "grid_auto_rows": null,
            "grid_column": null,
            "grid_gap": null,
            "grid_row": null,
            "grid_template_areas": null,
            "grid_template_columns": null,
            "grid_template_rows": null,
            "height": null,
            "justify_content": null,
            "justify_items": null,
            "left": null,
            "margin": null,
            "max_height": null,
            "max_width": null,
            "min_height": null,
            "min_width": null,
            "object_fit": null,
            "object_position": null,
            "order": null,
            "overflow": null,
            "overflow_x": null,
            "overflow_y": null,
            "padding": null,
            "right": null,
            "top": null,
            "visibility": null,
            "width": null
          }
        },
        "db6bfe3c01be4b03becd9316f50e954b": {
          "model_module": "@jupyter-widgets/controls",
          "model_name": "DescriptionStyleModel",
          "model_module_version": "1.5.0",
          "state": {
            "_model_module": "@jupyter-widgets/controls",
            "_model_module_version": "1.5.0",
            "_model_name": "DescriptionStyleModel",
            "_view_count": null,
            "_view_module": "@jupyter-widgets/base",
            "_view_module_version": "1.2.0",
            "_view_name": "StyleView",
            "description_width": ""
          }
        },
        "e7d076f077654343b824212952f0806e": {
          "model_module": "@jupyter-widgets/controls",
          "model_name": "HBoxModel",
          "model_module_version": "1.5.0",
          "state": {
            "_dom_classes": [],
            "_model_module": "@jupyter-widgets/controls",
            "_model_module_version": "1.5.0",
            "_model_name": "HBoxModel",
            "_view_count": null,
            "_view_module": "@jupyter-widgets/controls",
            "_view_module_version": "1.5.0",
            "_view_name": "HBoxView",
            "box_style": "",
            "children": [
              "IPY_MODEL_6ba92c0e64324fa49225553576cbc36c",
              "IPY_MODEL_f558fc9bb94c48ffafa7ed43183d245b",
              "IPY_MODEL_bd8da20966a94e72a62b1dd67fc30b3b"
            ],
            "layout": "IPY_MODEL_26f9d113db6048faa0fa5b0138d6f6c8"
          }
        },
        "6ba92c0e64324fa49225553576cbc36c": {
          "model_module": "@jupyter-widgets/controls",
          "model_name": "HTMLModel",
          "model_module_version": "1.5.0",
          "state": {
            "_dom_classes": [],
            "_model_module": "@jupyter-widgets/controls",
            "_model_module_version": "1.5.0",
            "_model_name": "HTMLModel",
            "_view_count": null,
            "_view_module": "@jupyter-widgets/controls",
            "_view_module_version": "1.5.0",
            "_view_name": "HTMLView",
            "description": "",
            "description_tooltip": null,
            "layout": "IPY_MODEL_bac73bb0dd1c41dfa33ed09923811eb7",
            "placeholder": "​",
            "style": "IPY_MODEL_e570cf6666894b829dc398eb85ea6257",
            "value": ""
          }
        },
        "f558fc9bb94c48ffafa7ed43183d245b": {
          "model_module": "@jupyter-widgets/controls",
          "model_name": "FloatProgressModel",
          "model_module_version": "1.5.0",
          "state": {
            "_dom_classes": [],
            "_model_module": "@jupyter-widgets/controls",
            "_model_module_version": "1.5.0",
            "_model_name": "FloatProgressModel",
            "_view_count": null,
            "_view_module": "@jupyter-widgets/controls",
            "_view_module_version": "1.5.0",
            "_view_name": "ProgressView",
            "bar_style": "success",
            "description": "",
            "description_tooltip": null,
            "layout": "IPY_MODEL_2c033b3e216e473b86dfc832a839cdef",
            "max": 1,
            "min": 0,
            "orientation": "horizontal",
            "style": "IPY_MODEL_3f8f2e5287e1431782ac400b6ba5e27f",
            "value": 1
          }
        },
        "bd8da20966a94e72a62b1dd67fc30b3b": {
          "model_module": "@jupyter-widgets/controls",
          "model_name": "HTMLModel",
          "model_module_version": "1.5.0",
          "state": {
            "_dom_classes": [],
            "_model_module": "@jupyter-widgets/controls",
            "_model_module_version": "1.5.0",
            "_model_name": "HTMLModel",
            "_view_count": null,
            "_view_module": "@jupyter-widgets/controls",
            "_view_module_version": "1.5.0",
            "_view_name": "HTMLView",
            "description": "",
            "description_tooltip": null,
            "layout": "IPY_MODEL_b0e9e3b334684102b29781fbc0390a1a",
            "placeholder": "​",
            "style": "IPY_MODEL_2a6fd95038194affa095e948a4e3c2da",
            "value": " 1401/? [14:35&lt;00:00,  1.59it/s]"
          }
        },
        "26f9d113db6048faa0fa5b0138d6f6c8": {
          "model_module": "@jupyter-widgets/base",
          "model_name": "LayoutModel",
          "model_module_version": "1.2.0",
          "state": {
            "_model_module": "@jupyter-widgets/base",
            "_model_module_version": "1.2.0",
            "_model_name": "LayoutModel",
            "_view_count": null,
            "_view_module": "@jupyter-widgets/base",
            "_view_module_version": "1.2.0",
            "_view_name": "LayoutView",
            "align_content": null,
            "align_items": null,
            "align_self": null,
            "border": null,
            "bottom": null,
            "display": null,
            "flex": null,
            "flex_flow": null,
            "grid_area": null,
            "grid_auto_columns": null,
            "grid_auto_flow": null,
            "grid_auto_rows": null,
            "grid_column": null,
            "grid_gap": null,
            "grid_row": null,
            "grid_template_areas": null,
            "grid_template_columns": null,
            "grid_template_rows": null,
            "height": null,
            "justify_content": null,
            "justify_items": null,
            "left": null,
            "margin": null,
            "max_height": null,
            "max_width": null,
            "min_height": null,
            "min_width": null,
            "object_fit": null,
            "object_position": null,
            "order": null,
            "overflow": null,
            "overflow_x": null,
            "overflow_y": null,
            "padding": null,
            "right": null,
            "top": null,
            "visibility": null,
            "width": null
          }
        },
        "bac73bb0dd1c41dfa33ed09923811eb7": {
          "model_module": "@jupyter-widgets/base",
          "model_name": "LayoutModel",
          "model_module_version": "1.2.0",
          "state": {
            "_model_module": "@jupyter-widgets/base",
            "_model_module_version": "1.2.0",
            "_model_name": "LayoutModel",
            "_view_count": null,
            "_view_module": "@jupyter-widgets/base",
            "_view_module_version": "1.2.0",
            "_view_name": "LayoutView",
            "align_content": null,
            "align_items": null,
            "align_self": null,
            "border": null,
            "bottom": null,
            "display": null,
            "flex": null,
            "flex_flow": null,
            "grid_area": null,
            "grid_auto_columns": null,
            "grid_auto_flow": null,
            "grid_auto_rows": null,
            "grid_column": null,
            "grid_gap": null,
            "grid_row": null,
            "grid_template_areas": null,
            "grid_template_columns": null,
            "grid_template_rows": null,
            "height": null,
            "justify_content": null,
            "justify_items": null,
            "left": null,
            "margin": null,
            "max_height": null,
            "max_width": null,
            "min_height": null,
            "min_width": null,
            "object_fit": null,
            "object_position": null,
            "order": null,
            "overflow": null,
            "overflow_x": null,
            "overflow_y": null,
            "padding": null,
            "right": null,
            "top": null,
            "visibility": null,
            "width": null
          }
        },
        "e570cf6666894b829dc398eb85ea6257": {
          "model_module": "@jupyter-widgets/controls",
          "model_name": "DescriptionStyleModel",
          "model_module_version": "1.5.0",
          "state": {
            "_model_module": "@jupyter-widgets/controls",
            "_model_module_version": "1.5.0",
            "_model_name": "DescriptionStyleModel",
            "_view_count": null,
            "_view_module": "@jupyter-widgets/base",
            "_view_module_version": "1.2.0",
            "_view_name": "StyleView",
            "description_width": ""
          }
        },
        "2c033b3e216e473b86dfc832a839cdef": {
          "model_module": "@jupyter-widgets/base",
          "model_name": "LayoutModel",
          "model_module_version": "1.2.0",
          "state": {
            "_model_module": "@jupyter-widgets/base",
            "_model_module_version": "1.2.0",
            "_model_name": "LayoutModel",
            "_view_count": null,
            "_view_module": "@jupyter-widgets/base",
            "_view_module_version": "1.2.0",
            "_view_name": "LayoutView",
            "align_content": null,
            "align_items": null,
            "align_self": null,
            "border": null,
            "bottom": null,
            "display": null,
            "flex": null,
            "flex_flow": null,
            "grid_area": null,
            "grid_auto_columns": null,
            "grid_auto_flow": null,
            "grid_auto_rows": null,
            "grid_column": null,
            "grid_gap": null,
            "grid_row": null,
            "grid_template_areas": null,
            "grid_template_columns": null,
            "grid_template_rows": null,
            "height": null,
            "justify_content": null,
            "justify_items": null,
            "left": null,
            "margin": null,
            "max_height": null,
            "max_width": null,
            "min_height": null,
            "min_width": null,
            "object_fit": null,
            "object_position": null,
            "order": null,
            "overflow": null,
            "overflow_x": null,
            "overflow_y": null,
            "padding": null,
            "right": null,
            "top": null,
            "visibility": null,
            "width": "20px"
          }
        },
        "3f8f2e5287e1431782ac400b6ba5e27f": {
          "model_module": "@jupyter-widgets/controls",
          "model_name": "ProgressStyleModel",
          "model_module_version": "1.5.0",
          "state": {
            "_model_module": "@jupyter-widgets/controls",
            "_model_module_version": "1.5.0",
            "_model_name": "ProgressStyleModel",
            "_view_count": null,
            "_view_module": "@jupyter-widgets/base",
            "_view_module_version": "1.2.0",
            "_view_name": "StyleView",
            "bar_color": null,
            "description_width": ""
          }
        },
        "b0e9e3b334684102b29781fbc0390a1a": {
          "model_module": "@jupyter-widgets/base",
          "model_name": "LayoutModel",
          "model_module_version": "1.2.0",
          "state": {
            "_model_module": "@jupyter-widgets/base",
            "_model_module_version": "1.2.0",
            "_model_name": "LayoutModel",
            "_view_count": null,
            "_view_module": "@jupyter-widgets/base",
            "_view_module_version": "1.2.0",
            "_view_name": "LayoutView",
            "align_content": null,
            "align_items": null,
            "align_self": null,
            "border": null,
            "bottom": null,
            "display": null,
            "flex": null,
            "flex_flow": null,
            "grid_area": null,
            "grid_auto_columns": null,
            "grid_auto_flow": null,
            "grid_auto_rows": null,
            "grid_column": null,
            "grid_gap": null,
            "grid_row": null,
            "grid_template_areas": null,
            "grid_template_columns": null,
            "grid_template_rows": null,
            "height": null,
            "justify_content": null,
            "justify_items": null,
            "left": null,
            "margin": null,
            "max_height": null,
            "max_width": null,
            "min_height": null,
            "min_width": null,
            "object_fit": null,
            "object_position": null,
            "order": null,
            "overflow": null,
            "overflow_x": null,
            "overflow_y": null,
            "padding": null,
            "right": null,
            "top": null,
            "visibility": null,
            "width": null
          }
        },
        "2a6fd95038194affa095e948a4e3c2da": {
          "model_module": "@jupyter-widgets/controls",
          "model_name": "DescriptionStyleModel",
          "model_module_version": "1.5.0",
          "state": {
            "_model_module": "@jupyter-widgets/controls",
            "_model_module_version": "1.5.0",
            "_model_name": "DescriptionStyleModel",
            "_view_count": null,
            "_view_module": "@jupyter-widgets/base",
            "_view_module_version": "1.2.0",
            "_view_name": "StyleView",
            "description_width": ""
          }
        },
        "cc198377c5b54904a8ca15c966afce45": {
          "model_module": "@jupyter-widgets/controls",
          "model_name": "HBoxModel",
          "model_module_version": "1.5.0",
          "state": {
            "_dom_classes": [],
            "_model_module": "@jupyter-widgets/controls",
            "_model_module_version": "1.5.0",
            "_model_name": "HBoxModel",
            "_view_count": null,
            "_view_module": "@jupyter-widgets/controls",
            "_view_module_version": "1.5.0",
            "_view_name": "HBoxView",
            "box_style": "",
            "children": [
              "IPY_MODEL_424703be973b4cbb98d7210dae7e54bd",
              "IPY_MODEL_b135fe121bbd4d12baf318a3e2bd50e4",
              "IPY_MODEL_4caf84715e9f483c99afeb464a778cf6"
            ],
            "layout": "IPY_MODEL_467e142eedcb4f7397b3cc66ea593197"
          }
        },
        "424703be973b4cbb98d7210dae7e54bd": {
          "model_module": "@jupyter-widgets/controls",
          "model_name": "HTMLModel",
          "model_module_version": "1.5.0",
          "state": {
            "_dom_classes": [],
            "_model_module": "@jupyter-widgets/controls",
            "_model_module_version": "1.5.0",
            "_model_name": "HTMLModel",
            "_view_count": null,
            "_view_module": "@jupyter-widgets/controls",
            "_view_module_version": "1.5.0",
            "_view_name": "HTMLView",
            "description": "",
            "description_tooltip": null,
            "layout": "IPY_MODEL_c3e9caa5a7cd4fc0a9ad574a0630cbd7",
            "placeholder": "​",
            "style": "IPY_MODEL_92d1b80ea8b24a1d86aa57f8d4bf766e",
            "value": ""
          }
        },
        "b135fe121bbd4d12baf318a3e2bd50e4": {
          "model_module": "@jupyter-widgets/controls",
          "model_name": "FloatProgressModel",
          "model_module_version": "1.5.0",
          "state": {
            "_dom_classes": [],
            "_model_module": "@jupyter-widgets/controls",
            "_model_module_version": "1.5.0",
            "_model_name": "FloatProgressModel",
            "_view_count": null,
            "_view_module": "@jupyter-widgets/controls",
            "_view_module_version": "1.5.0",
            "_view_name": "ProgressView",
            "bar_style": "success",
            "description": "",
            "description_tooltip": null,
            "layout": "IPY_MODEL_b63de5c38df04ca5bb9e056fef35bbd8",
            "max": 1,
            "min": 0,
            "orientation": "horizontal",
            "style": "IPY_MODEL_0ab663a610f64e6eb073642685f3aace",
            "value": 1
          }
        },
        "4caf84715e9f483c99afeb464a778cf6": {
          "model_module": "@jupyter-widgets/controls",
          "model_name": "HTMLModel",
          "model_module_version": "1.5.0",
          "state": {
            "_dom_classes": [],
            "_model_module": "@jupyter-widgets/controls",
            "_model_module_version": "1.5.0",
            "_model_name": "HTMLModel",
            "_view_count": null,
            "_view_module": "@jupyter-widgets/controls",
            "_view_module_version": "1.5.0",
            "_view_name": "HTMLView",
            "description": "",
            "description_tooltip": null,
            "layout": "IPY_MODEL_1705012db8614430b96d786645ad8276",
            "placeholder": "​",
            "style": "IPY_MODEL_b8998c06864b45f58f6da69b567ee56b",
            "value": " 1401/? [14:35&lt;00:00,  1.65it/s]"
          }
        },
        "467e142eedcb4f7397b3cc66ea593197": {
          "model_module": "@jupyter-widgets/base",
          "model_name": "LayoutModel",
          "model_module_version": "1.2.0",
          "state": {
            "_model_module": "@jupyter-widgets/base",
            "_model_module_version": "1.2.0",
            "_model_name": "LayoutModel",
            "_view_count": null,
            "_view_module": "@jupyter-widgets/base",
            "_view_module_version": "1.2.0",
            "_view_name": "LayoutView",
            "align_content": null,
            "align_items": null,
            "align_self": null,
            "border": null,
            "bottom": null,
            "display": null,
            "flex": null,
            "flex_flow": null,
            "grid_area": null,
            "grid_auto_columns": null,
            "grid_auto_flow": null,
            "grid_auto_rows": null,
            "grid_column": null,
            "grid_gap": null,
            "grid_row": null,
            "grid_template_areas": null,
            "grid_template_columns": null,
            "grid_template_rows": null,
            "height": null,
            "justify_content": null,
            "justify_items": null,
            "left": null,
            "margin": null,
            "max_height": null,
            "max_width": null,
            "min_height": null,
            "min_width": null,
            "object_fit": null,
            "object_position": null,
            "order": null,
            "overflow": null,
            "overflow_x": null,
            "overflow_y": null,
            "padding": null,
            "right": null,
            "top": null,
            "visibility": null,
            "width": null
          }
        },
        "c3e9caa5a7cd4fc0a9ad574a0630cbd7": {
          "model_module": "@jupyter-widgets/base",
          "model_name": "LayoutModel",
          "model_module_version": "1.2.0",
          "state": {
            "_model_module": "@jupyter-widgets/base",
            "_model_module_version": "1.2.0",
            "_model_name": "LayoutModel",
            "_view_count": null,
            "_view_module": "@jupyter-widgets/base",
            "_view_module_version": "1.2.0",
            "_view_name": "LayoutView",
            "align_content": null,
            "align_items": null,
            "align_self": null,
            "border": null,
            "bottom": null,
            "display": null,
            "flex": null,
            "flex_flow": null,
            "grid_area": null,
            "grid_auto_columns": null,
            "grid_auto_flow": null,
            "grid_auto_rows": null,
            "grid_column": null,
            "grid_gap": null,
            "grid_row": null,
            "grid_template_areas": null,
            "grid_template_columns": null,
            "grid_template_rows": null,
            "height": null,
            "justify_content": null,
            "justify_items": null,
            "left": null,
            "margin": null,
            "max_height": null,
            "max_width": null,
            "min_height": null,
            "min_width": null,
            "object_fit": null,
            "object_position": null,
            "order": null,
            "overflow": null,
            "overflow_x": null,
            "overflow_y": null,
            "padding": null,
            "right": null,
            "top": null,
            "visibility": null,
            "width": null
          }
        },
        "92d1b80ea8b24a1d86aa57f8d4bf766e": {
          "model_module": "@jupyter-widgets/controls",
          "model_name": "DescriptionStyleModel",
          "model_module_version": "1.5.0",
          "state": {
            "_model_module": "@jupyter-widgets/controls",
            "_model_module_version": "1.5.0",
            "_model_name": "DescriptionStyleModel",
            "_view_count": null,
            "_view_module": "@jupyter-widgets/base",
            "_view_module_version": "1.2.0",
            "_view_name": "StyleView",
            "description_width": ""
          }
        },
        "b63de5c38df04ca5bb9e056fef35bbd8": {
          "model_module": "@jupyter-widgets/base",
          "model_name": "LayoutModel",
          "model_module_version": "1.2.0",
          "state": {
            "_model_module": "@jupyter-widgets/base",
            "_model_module_version": "1.2.0",
            "_model_name": "LayoutModel",
            "_view_count": null,
            "_view_module": "@jupyter-widgets/base",
            "_view_module_version": "1.2.0",
            "_view_name": "LayoutView",
            "align_content": null,
            "align_items": null,
            "align_self": null,
            "border": null,
            "bottom": null,
            "display": null,
            "flex": null,
            "flex_flow": null,
            "grid_area": null,
            "grid_auto_columns": null,
            "grid_auto_flow": null,
            "grid_auto_rows": null,
            "grid_column": null,
            "grid_gap": null,
            "grid_row": null,
            "grid_template_areas": null,
            "grid_template_columns": null,
            "grid_template_rows": null,
            "height": null,
            "justify_content": null,
            "justify_items": null,
            "left": null,
            "margin": null,
            "max_height": null,
            "max_width": null,
            "min_height": null,
            "min_width": null,
            "object_fit": null,
            "object_position": null,
            "order": null,
            "overflow": null,
            "overflow_x": null,
            "overflow_y": null,
            "padding": null,
            "right": null,
            "top": null,
            "visibility": null,
            "width": "20px"
          }
        },
        "0ab663a610f64e6eb073642685f3aace": {
          "model_module": "@jupyter-widgets/controls",
          "model_name": "ProgressStyleModel",
          "model_module_version": "1.5.0",
          "state": {
            "_model_module": "@jupyter-widgets/controls",
            "_model_module_version": "1.5.0",
            "_model_name": "ProgressStyleModel",
            "_view_count": null,
            "_view_module": "@jupyter-widgets/base",
            "_view_module_version": "1.2.0",
            "_view_name": "StyleView",
            "bar_color": null,
            "description_width": ""
          }
        },
        "1705012db8614430b96d786645ad8276": {
          "model_module": "@jupyter-widgets/base",
          "model_name": "LayoutModel",
          "model_module_version": "1.2.0",
          "state": {
            "_model_module": "@jupyter-widgets/base",
            "_model_module_version": "1.2.0",
            "_model_name": "LayoutModel",
            "_view_count": null,
            "_view_module": "@jupyter-widgets/base",
            "_view_module_version": "1.2.0",
            "_view_name": "LayoutView",
            "align_content": null,
            "align_items": null,
            "align_self": null,
            "border": null,
            "bottom": null,
            "display": null,
            "flex": null,
            "flex_flow": null,
            "grid_area": null,
            "grid_auto_columns": null,
            "grid_auto_flow": null,
            "grid_auto_rows": null,
            "grid_column": null,
            "grid_gap": null,
            "grid_row": null,
            "grid_template_areas": null,
            "grid_template_columns": null,
            "grid_template_rows": null,
            "height": null,
            "justify_content": null,
            "justify_items": null,
            "left": null,
            "margin": null,
            "max_height": null,
            "max_width": null,
            "min_height": null,
            "min_width": null,
            "object_fit": null,
            "object_position": null,
            "order": null,
            "overflow": null,
            "overflow_x": null,
            "overflow_y": null,
            "padding": null,
            "right": null,
            "top": null,
            "visibility": null,
            "width": null
          }
        },
        "b8998c06864b45f58f6da69b567ee56b": {
          "model_module": "@jupyter-widgets/controls",
          "model_name": "DescriptionStyleModel",
          "model_module_version": "1.5.0",
          "state": {
            "_model_module": "@jupyter-widgets/controls",
            "_model_module_version": "1.5.0",
            "_model_name": "DescriptionStyleModel",
            "_view_count": null,
            "_view_module": "@jupyter-widgets/base",
            "_view_module_version": "1.2.0",
            "_view_name": "StyleView",
            "description_width": ""
          }
        }
      }
    }
  },
  "cells": [
    {
      "cell_type": "markdown",
      "source": [
        "# PREPARE TRAIN"
      ],
      "metadata": {
        "id": "UlcWT-eezrgO"
      }
    },
    {
      "cell_type": "markdown",
      "source": [
        "## Pip"
      ],
      "metadata": {
        "id": "hvO0vHqS1DSF"
      }
    },
    {
      "cell_type": "code",
      "metadata": {
        "id": "p1m7AWRsmdIV"
      },
      "source": [
        "import os\n",
        "import tqdm\n",
        "import seaborn as sns\n",
        "# drive.mount('/content/drive/')\n",
        "os.chdir('/content/drive/MyDrive/BERT/SA')"
      ],
      "execution_count": null,
      "outputs": []
    },
    {
      "cell_type": "code",
      "metadata": {
        "id": "_Biz3kNemdGC"
      },
      "source": [
        "%%capture\n",
        "!pip install transformers"
      ],
      "execution_count": null,
      "outputs": []
    },
    {
      "cell_type": "code",
      "metadata": {
        "id": "e6CtCpCBmdEY"
      },
      "source": [
        "%%capture\n",
        "!pip install fastBPE\n",
        "!pip install fairseq\n",
        "!pip install datasets"
      ],
      "execution_count": null,
      "outputs": []
    },
    {
      "cell_type": "code",
      "metadata": {
        "id": "ncGVmD7VmdCQ"
      },
      "source": [
        "%%capture\n",
        "# Install the vncorenlp python wrapper\n",
        "!pip install vncorenlp\n",
        "\n",
        "# Download VnCoreNLP-1.1.1.jar & its word segmentation component (i.e. RDRSegmenter) \n",
        "# !mkdir -p vncorenlp/models/wordsegmenter\n",
        "# !wget https://raw.githubusercontent.com/vncorenlp/VnCoreNLP/master/VnCoreNLP-1.1.1.jar\n",
        "# !wget https://raw.githubusercontent.com/vncorenlp/VnCoreNLP/master/models/wordsegmenter/vi-vocab\n",
        "# !wget https://raw.githubusercontent.com/vncorenlp/VnCoreNLP/master/models/wordsegmenter/wordsegmenter.rdr\n",
        "# !mv VnCoreNLP-1.1.1.jar vncorenlp/ \n",
        "# !mv vi-vocab vncorenlp/models/wordsegmenter/\n",
        "# !mv wordsegmenter.rdr vncorenlp/models/wordsegmenter/"
      ],
      "execution_count": null,
      "outputs": []
    },
    {
      "cell_type": "code",
      "metadata": {
        "id": "ddYwNvwemdAv",
        "colab": {
          "base_uri": "https://localhost:8080/"
        },
        "outputId": "72ca45c9-2018-4fe3-86be-84502205d81b"
      },
      "source": [
        "from vncorenlp import VnCoreNLP\n",
        "rdrsegmenter = VnCoreNLP(\"vncorenlp/VnCoreNLP-1.1.1.jar\", annotators=\"wseg\", max_heap_size='-Xmx500m') \n",
        "\n",
        "text = \"Đại học Bách Khoa Hà Nội.\"\n",
        "\n",
        "word_segmented_text = rdrsegmenter.tokenize(text) \n",
        "print(word_segmented_text)"
      ],
      "execution_count": null,
      "outputs": [
        {
          "output_type": "stream",
          "name": "stdout",
          "text": [
            "[['Đại_học', 'Bách_Khoa', 'Hà_Nội', '.']]\n"
          ]
        }
      ]
    },
    {
      "cell_type": "code",
      "metadata": {
        "id": "VQsmBDokmc-A"
      },
      "source": [
        "%%capture\n",
        "# !wget https://public.vinai.io/PhoBERT_base_transformers.tar.gz\n",
        "# !tar -xzvf PhoBERT_base_transformers.tar.gz"
      ],
      "execution_count": null,
      "outputs": []
    },
    {
      "cell_type": "code",
      "metadata": {
        "id": "nplro44qmc8J"
      },
      "source": [
        "%%capture\n",
        "# !wget https://public.vinai.io/PhoBERT_base_fairseq.tar.gz\n",
        "# !tar -xzvf PhoBERT_base_fairseq.tar.gz"
      ],
      "execution_count": null,
      "outputs": []
    },
    {
      "cell_type": "code",
      "metadata": {
        "id": "Udj47zXGmc53"
      },
      "source": [
        "from fairseq.data.encoders.fastbpe import fastBPE\n",
        "from fairseq.data import Dictionary\n",
        "import argparse\n",
        "\n",
        "parser = argparse.ArgumentParser()\n",
        "parser.add_argument('--bpe-codes', \n",
        "    default=\"PhoBERT_base_transformers/bpe.codes\",\n",
        "    required=False,\n",
        "    type=str,\n",
        "    help='path to fastBPE BPE'\n",
        ")\n",
        "args, unknown = parser.parse_known_args()\n",
        "bpe = fastBPE(args)\n",
        "\n",
        "# Load the dictionary\n",
        "vocab = Dictionary()\n",
        "vocab.add_from_file(\"PhoBERT_base_transformers/dict.txt\")"
      ],
      "execution_count": null,
      "outputs": []
    },
    {
      "cell_type": "code",
      "metadata": {
        "id": "kCp7yN5amc3y",
        "colab": {
          "base_uri": "https://localhost:8080/"
        },
        "outputId": "059f7ead-d166-4ca9-db8e-5849fb382242"
      },
      "source": [
        "bpe.encode(\"Hôm_nay trời nóng quá nên tôi ở nhà viết Viblo!\")"
      ],
      "execution_count": null,
      "outputs": [
        {
          "output_type": "execute_result",
          "data": {
            "text/plain": [
              "'Hôm_nay trời nóng quá nên tôi ở nhà viết Vi@@ blo@@ !'"
            ],
            "application/vnd.google.colaboratory.intrinsic+json": {
              "type": "string"
            }
          },
          "metadata": {},
          "execution_count": 9
        }
      ]
    },
    {
      "cell_type": "code",
      "metadata": {
        "id": "V1RYehayBNKP",
        "colab": {
          "base_uri": "https://localhost:8080/"
        },
        "outputId": "e26b4ec8-3c34-4686-887a-75938e76dbab"
      },
      "source": [
        "vocab.encode_line('<s> ' + 'Hôm_nay trời nóng quá nên tôi ở nhà viết Vi@@ blo@@ !' + ' </s>')"
      ],
      "execution_count": null,
      "outputs": [
        {
          "output_type": "execute_result",
          "data": {
            "text/plain": [
              "tensor([    0,  3791,  1027,   898,   204,    77,    70,    25,    69,   467,\n",
              "         3696, 16856,   381,     2,     2], dtype=torch.int32)"
            ]
          },
          "metadata": {},
          "execution_count": 10
        }
      ]
    },
    {
      "cell_type": "markdown",
      "source": [
        "## DF"
      ],
      "metadata": {
        "id": "ydUz_mth1Hov"
      }
    },
    {
      "cell_type": "code",
      "source": [
        "import numpy as np\n",
        "import pandas as pd\n",
        "df = pd.read_csv('data.csv')\n",
        "df = df[df.comment != '.']\n",
        "df = df.reset_index(drop=True)"
      ],
      "metadata": {
        "id": "dzuOmIBlx561"
      },
      "execution_count": null,
      "outputs": []
    },
    {
      "cell_type": "code",
      "source": [
        "# # Bỏ bớt các mẫu có label 'POS'\n",
        "# n=0\n",
        "# for i in df.index:\n",
        "#   if df['label'][i]=='POS':\n",
        "#     n = n + 1\n",
        "#     if n%3!=0:\n",
        "#       df = df.drop([i])\n",
        "#     if n%3==0:\n",
        "#       n=0\n",
        "# df = df.reset_index(drop=True)\n",
        "# df = df[:-10000]"
      ],
      "metadata": {
        "id": "4Pjn3Cf50mKD"
      },
      "execution_count": null,
      "outputs": []
    },
    {
      "cell_type": "markdown",
      "source": [
        "### vihsd"
      ],
      "metadata": {
        "id": "oDdDYbK6EvFz"
      }
    },
    {
      "cell_type": "code",
      "source": [
        "df1 = pd.read_csv('vihsd/dev.csv')\n",
        "df2 = pd.read_csv('vihsd/train.csv')\n",
        "df3 = pd.read_csv('vihsd/test.csv')"
      ],
      "metadata": {
        "id": "r-EXwlbE_JJc"
      },
      "execution_count": null,
      "outputs": []
    },
    {
      "cell_type": "code",
      "source": [
        "for i in [df1,df2,df3]:\n",
        "  i.columns = ['comment','label']"
      ],
      "metadata": {
        "id": "pdtiBiEK_qsw"
      },
      "execution_count": null,
      "outputs": []
    },
    {
      "cell_type": "code",
      "source": [
        "_df = pd.concat([df1, df2, df3])\n",
        "_df = _df[_df.label != 0]\n",
        "_df = _df.dropna()\n",
        "_df = _df.reset_index(drop=True)\n",
        "_df.label = 0"
      ],
      "metadata": {
        "id": "_CDHOTUhAFMs"
      },
      "execution_count": null,
      "outputs": []
    },
    {
      "cell_type": "markdown",
      "source": [
        "### vietnamese_students_feedback"
      ],
      "metadata": {
        "id": "iZdvFXOTE4H8"
      }
    },
    {
      "cell_type": "code",
      "source": [
        "df_1 = pd.read_csv('vietnamese_students_feedback/validation.csv')\n",
        "df_2 = pd.read_csv('vietnamese_students_feedback/train.csv')\n",
        "df_3 = pd.read_csv('vietnamese_students_feedback/test.csv')"
      ],
      "metadata": {
        "id": "KhVYppkCFLq2"
      },
      "execution_count": null,
      "outputs": []
    },
    {
      "cell_type": "code",
      "source": [
        "df_ = pd.concat([df_1, df_2, df_3])\n",
        "df_ = df_.dropna()\n",
        "df_ = df_.reset_index(drop=True)"
      ],
      "metadata": {
        "id": "pKKavQQSFZoH"
      },
      "execution_count": null,
      "outputs": []
    },
    {
      "cell_type": "code",
      "source": [
        "df_"
      ],
      "metadata": {
        "colab": {
          "base_uri": "https://localhost:8080/"
        },
        "id": "tG-gys0EGepj",
        "outputId": "9090893b-45c2-42bb-ce53-bb80053af5d1"
      },
      "execution_count": null,
      "outputs": [
        {
          "output_type": "execute_result",
          "data": {
            "text/plain": [
              "                                                 comment  label\n",
              "0                               giáo trình chưa cụ thể .      0\n",
              "1                                       giảng buồn ngủ .      0\n",
              "2                         giáo viên vui tính , tận tâm .      2\n",
              "3      giảng viên nên giao bài tập nhiều hơn , chia n...      0\n",
              "4      giảng viên cần giảng bài chi tiết hơn , đi sâu...      0\n",
              "...                                                  ...    ...\n",
              "16170  các slide khó hiểu , ngôn ngữ trong slide phức...      0\n",
              "16171                 giáo viên giảng dạy có tâm huyết .      2\n",
              "16172                    chia sẻ cho em nhiều điều hay .      2\n",
              "16173                                 em tiếp thu chậm .      0\n",
              "16174  em có học ở một trung tâm tiếng anh ở ngoài tr...      1\n",
              "\n",
              "[16175 rows x 2 columns]"
            ],
            "text/html": [
              "\n",
              "  <div id=\"df-5f101606-9612-4979-98b2-7f5cfd4826cb\">\n",
              "    <div class=\"colab-df-container\">\n",
              "      <div>\n",
              "<style scoped>\n",
              "    .dataframe tbody tr th:only-of-type {\n",
              "        vertical-align: middle;\n",
              "    }\n",
              "\n",
              "    .dataframe tbody tr th {\n",
              "        vertical-align: top;\n",
              "    }\n",
              "\n",
              "    .dataframe thead th {\n",
              "        text-align: right;\n",
              "    }\n",
              "</style>\n",
              "<table border=\"1\" class=\"dataframe\">\n",
              "  <thead>\n",
              "    <tr style=\"text-align: right;\">\n",
              "      <th></th>\n",
              "      <th>comment</th>\n",
              "      <th>label</th>\n",
              "    </tr>\n",
              "  </thead>\n",
              "  <tbody>\n",
              "    <tr>\n",
              "      <th>0</th>\n",
              "      <td>giáo trình chưa cụ thể .</td>\n",
              "      <td>0</td>\n",
              "    </tr>\n",
              "    <tr>\n",
              "      <th>1</th>\n",
              "      <td>giảng buồn ngủ .</td>\n",
              "      <td>0</td>\n",
              "    </tr>\n",
              "    <tr>\n",
              "      <th>2</th>\n",
              "      <td>giáo viên vui tính , tận tâm .</td>\n",
              "      <td>2</td>\n",
              "    </tr>\n",
              "    <tr>\n",
              "      <th>3</th>\n",
              "      <td>giảng viên nên giao bài tập nhiều hơn , chia n...</td>\n",
              "      <td>0</td>\n",
              "    </tr>\n",
              "    <tr>\n",
              "      <th>4</th>\n",
              "      <td>giảng viên cần giảng bài chi tiết hơn , đi sâu...</td>\n",
              "      <td>0</td>\n",
              "    </tr>\n",
              "    <tr>\n",
              "      <th>...</th>\n",
              "      <td>...</td>\n",
              "      <td>...</td>\n",
              "    </tr>\n",
              "    <tr>\n",
              "      <th>16170</th>\n",
              "      <td>các slide khó hiểu , ngôn ngữ trong slide phức...</td>\n",
              "      <td>0</td>\n",
              "    </tr>\n",
              "    <tr>\n",
              "      <th>16171</th>\n",
              "      <td>giáo viên giảng dạy có tâm huyết .</td>\n",
              "      <td>2</td>\n",
              "    </tr>\n",
              "    <tr>\n",
              "      <th>16172</th>\n",
              "      <td>chia sẻ cho em nhiều điều hay .</td>\n",
              "      <td>2</td>\n",
              "    </tr>\n",
              "    <tr>\n",
              "      <th>16173</th>\n",
              "      <td>em tiếp thu chậm .</td>\n",
              "      <td>0</td>\n",
              "    </tr>\n",
              "    <tr>\n",
              "      <th>16174</th>\n",
              "      <td>em có học ở một trung tâm tiếng anh ở ngoài tr...</td>\n",
              "      <td>1</td>\n",
              "    </tr>\n",
              "  </tbody>\n",
              "</table>\n",
              "<p>16175 rows × 2 columns</p>\n",
              "</div>\n",
              "      <button class=\"colab-df-convert\" onclick=\"convertToInteractive('df-5f101606-9612-4979-98b2-7f5cfd4826cb')\"\n",
              "              title=\"Convert this dataframe to an interactive table.\"\n",
              "              style=\"display:none;\">\n",
              "        \n",
              "  <svg xmlns=\"http://www.w3.org/2000/svg\" height=\"24px\"viewBox=\"0 0 24 24\"\n",
              "       width=\"24px\">\n",
              "    <path d=\"M0 0h24v24H0V0z\" fill=\"none\"/>\n",
              "    <path d=\"M18.56 5.44l.94 2.06.94-2.06 2.06-.94-2.06-.94-.94-2.06-.94 2.06-2.06.94zm-11 1L8.5 8.5l.94-2.06 2.06-.94-2.06-.94L8.5 2.5l-.94 2.06-2.06.94zm10 10l.94 2.06.94-2.06 2.06-.94-2.06-.94-.94-2.06-.94 2.06-2.06.94z\"/><path d=\"M17.41 7.96l-1.37-1.37c-.4-.4-.92-.59-1.43-.59-.52 0-1.04.2-1.43.59L10.3 9.45l-7.72 7.72c-.78.78-.78 2.05 0 2.83L4 21.41c.39.39.9.59 1.41.59.51 0 1.02-.2 1.41-.59l7.78-7.78 2.81-2.81c.8-.78.8-2.07 0-2.86zM5.41 20L4 18.59l7.72-7.72 1.47 1.35L5.41 20z\"/>\n",
              "  </svg>\n",
              "      </button>\n",
              "      \n",
              "  <style>\n",
              "    .colab-df-container {\n",
              "      display:flex;\n",
              "      flex-wrap:wrap;\n",
              "      gap: 12px;\n",
              "    }\n",
              "\n",
              "    .colab-df-convert {\n",
              "      background-color: #E8F0FE;\n",
              "      border: none;\n",
              "      border-radius: 50%;\n",
              "      cursor: pointer;\n",
              "      display: none;\n",
              "      fill: #1967D2;\n",
              "      height: 32px;\n",
              "      padding: 0 0 0 0;\n",
              "      width: 32px;\n",
              "    }\n",
              "\n",
              "    .colab-df-convert:hover {\n",
              "      background-color: #E2EBFA;\n",
              "      box-shadow: 0px 1px 2px rgba(60, 64, 67, 0.3), 0px 1px 3px 1px rgba(60, 64, 67, 0.15);\n",
              "      fill: #174EA6;\n",
              "    }\n",
              "\n",
              "    [theme=dark] .colab-df-convert {\n",
              "      background-color: #3B4455;\n",
              "      fill: #D2E3FC;\n",
              "    }\n",
              "\n",
              "    [theme=dark] .colab-df-convert:hover {\n",
              "      background-color: #434B5C;\n",
              "      box-shadow: 0px 1px 3px 1px rgba(0, 0, 0, 0.15);\n",
              "      filter: drop-shadow(0px 1px 2px rgba(0, 0, 0, 0.3));\n",
              "      fill: #FFFFFF;\n",
              "    }\n",
              "  </style>\n",
              "\n",
              "      <script>\n",
              "        const buttonEl =\n",
              "          document.querySelector('#df-5f101606-9612-4979-98b2-7f5cfd4826cb button.colab-df-convert');\n",
              "        buttonEl.style.display =\n",
              "          google.colab.kernel.accessAllowed ? 'block' : 'none';\n",
              "\n",
              "        async function convertToInteractive(key) {\n",
              "          const element = document.querySelector('#df-5f101606-9612-4979-98b2-7f5cfd4826cb');\n",
              "          const dataTable =\n",
              "            await google.colab.kernel.invokeFunction('convertToInteractive',\n",
              "                                                     [key], {});\n",
              "          if (!dataTable) return;\n",
              "\n",
              "          const docLinkHtml = 'Like what you see? Visit the ' +\n",
              "            '<a target=\"_blank\" href=https://colab.research.google.com/notebooks/data_table.ipynb>data table notebook</a>'\n",
              "            + ' to learn more about interactive tables.';\n",
              "          element.innerHTML = '';\n",
              "          dataTable['output_type'] = 'display_data';\n",
              "          await google.colab.output.renderOutput(dataTable, element);\n",
              "          const docLink = document.createElement('div');\n",
              "          docLink.innerHTML = docLinkHtml;\n",
              "          element.appendChild(docLink);\n",
              "        }\n",
              "      </script>\n",
              "    </div>\n",
              "  </div>\n",
              "  "
            ]
          },
          "metadata": {},
          "execution_count": 18
        }
      ]
    },
    {
      "cell_type": "markdown",
      "source": [
        "### Concat"
      ],
      "metadata": {
        "id": "7yTnqnSiE7-9"
      }
    },
    {
      "cell_type": "code",
      "source": [
        "df['label'] = np.where(df['label']=='NEG',0,np.where(df['label']=='NEU',1,2))\n",
        "df = df[['comment','label']]\n",
        "\n",
        "df_train = pd.concat([df[:-2000] , _df[:5300], df_[:-1100]])\n",
        "df_train = df_train.sample(frac = 1) # Shuffle\n",
        "df_train = df_train.reset_index(drop=True)\n",
        "df_train['comment'].astype(str)\n",
        "\n",
        "df_test = pd.concat([df[-2000:] , _df[5300:], df_[-1100:]])\n",
        "df_test = df_test.sample(frac = 1)   # Shuffle\n",
        "df_test = df_test.reset_index(drop=True)\n",
        "df_test['comment'].astype(str)"
      ],
      "metadata": {
        "id": "bM8JG_N1uiWi",
        "colab": {
          "base_uri": "https://localhost:8080/"
        },
        "outputId": "dcac54dd-db5d-4b81-f581-bc4fc15e3037"
      },
      "execution_count": null,
      "outputs": [
        {
          "output_type": "execute_result",
          "data": {
            "text/plain": [
              "0                 Đóng gói sản phẩm rất đẹp và chắc chắn.\n",
              "1       Toan đựng bọn ngu phá hại lên làm quan nên dân...\n",
              "2                    Sản phẩm đẹp lắm ạ, rất đáng để mua.\n",
              "3       ở ngoài tao mà gặp kiểu này t bắt lại cho anh ...\n",
              "4                          Áo vải đẹp, form quá ưng luôn.\n",
              "                              ...                        \n",
              "3570    - Sản Phẩm Tuyệt Vời :v Chị Shop Phụ Phụ Rất T...\n",
              "3571                           Mua đồ chỗ shop ưng ý lắm.\n",
              "3572    cô dạy dễ hiểu , giải bài tập hướng dẫn chúng ...\n",
              "3573    Cá chết vẫn chưa rõ nguyên nhân, biển thì vẫn ...\n",
              "3574    Ai đã sử dụng hàng Mỹ rồi thì chỉ cần ngửi mùi...\n",
              "Name: comment, Length: 3575, dtype: object"
            ]
          },
          "metadata": {},
          "execution_count": 19
        }
      ]
    },
    {
      "cell_type": "code",
      "source": [
        "sns.countplot(x='label', data=df_train)"
      ],
      "metadata": {
        "colab": {
          "base_uri": "https://localhost:8080/"
        },
        "id": "kCpmaoZ00UEF",
        "outputId": "c93b351b-e6af-4241-88fb-5a7ab68ba1dc"
      },
      "execution_count": null,
      "outputs": [
        {
          "output_type": "execute_result",
          "data": {
            "text/plain": [
              "<matplotlib.axes._subplots.AxesSubplot at 0x7f54335853d0>"
            ]
          },
          "metadata": {},
          "execution_count": 20
        },
        {
          "output_type": "display_data",
          "data": {
            "text/plain": [
              "<Figure size 432x288 with 1 Axes>"
            ],
            "image/png": "[encoded data removed]"
          },
          "metadata": {
            "needs_background": "light"
          }
        }
      ]
    },
    {
      "cell_type": "markdown",
      "source": [
        "## Split train test eval"
      ],
      "metadata": {
        "id": "4ImV7mH_GmMi"
      }
    },
    {
      "cell_type": "code",
      "source": [
        "def concat_cmt(text):\n",
        "  cmt = ''\n",
        "  cmt = text[0][0]\n",
        "  for i in text[0][1:]:\n",
        "    if i in [',','.','!','?']:\n",
        "      cmt = cmt + i \n",
        "    else:\n",
        "      cmt = cmt + ' ' + i \n",
        "  return cmt"
      ],
      "metadata": {
        "id": "gKLaY8E5BWPd"
      },
      "execution_count": null,
      "outputs": []
    },
    {
      "cell_type": "code",
      "source": [
        "train_text = []\n",
        "train_labels = []\n",
        "for i in tqdm.notebook.tqdm(df_train.index):\n",
        "  try:\n",
        "    train_text.append(concat_cmt(rdrsegmenter.tokenize(df_train.iloc[i]['comment'])))\n",
        "    train_labels.append(df_train.iloc[i]['label'])\n",
        "  except:\n",
        "    print(df_train.iloc[i]['comment'])\n",
        "    break\n",
        "\n",
        "test_text = []\n",
        "test_labels = []\n",
        "for i in tqdm.notebook.tqdm(df_test.index):\n",
        "  try:\n",
        "    test_text.append(concat_cmt(rdrsegmenter.tokenize(df_test.iloc[i]['comment'])))\n",
        "    test_labels.append(df_test.iloc[i]['label'])\n",
        "  except:\n",
        "    print(df_test.iloc[i]['comment'])\n",
        "    break\n"
      ],
      "metadata": {
        "id": "VwTMnsi7T9ai"
      },
      "execution_count": null,
      "outputs": []
    },
    {
      "cell_type": "code",
      "metadata": {
        "id": "RFv9c5REmcun"
      },
      "source": [
        "from sklearn.model_selection import train_test_split\n",
        "\n",
        "train_sents, val_sents, train_labels, val_labels = train_test_split(train_text, train_labels, test_size=0.1)"
      ],
      "execution_count": null,
      "outputs": []
    },
    {
      "cell_type": "markdown",
      "source": [
        "## Create Ids"
      ],
      "metadata": {
        "id": "OMK9U-ckgy1K"
      }
    },
    {
      "cell_type": "code",
      "metadata": {
        "id": "J7GX7J4MmcsE"
      },
      "source": [
        "from tensorflow.keras.preprocessing.sequence import pad_sequences\n",
        "MAX_LEN = 125\n",
        "\n",
        "train_ids = []\n",
        "for sent in train_sents:\n",
        "    subwords = '<s> ' + bpe.encode(sent) + ' </s>'\n",
        "    encoded_sent = vocab.encode_line(subwords, append_eos=True, add_if_not_exist=False).long().tolist()\n",
        "    train_ids.append(encoded_sent)\n",
        "\n",
        "val_ids = []\n",
        "for sent in val_sents:\n",
        "    subwords = '<s> ' + bpe.encode(sent) + ' </s>'\n",
        "    encoded_sent = vocab.encode_line(subwords, append_eos=True, add_if_not_exist=False).long().tolist()\n",
        "    val_ids.append(encoded_sent)\n",
        "    \n",
        "train_ids = pad_sequences(train_ids, maxlen=MAX_LEN, dtype=\"long\", value=0, truncating=\"post\", padding=\"post\")\n",
        "val_ids = pad_sequences(val_ids, maxlen=MAX_LEN, dtype=\"long\", value=0, truncating=\"post\", padding=\"post\")"
      ],
      "execution_count": null,
      "outputs": []
    },
    {
      "cell_type": "markdown",
      "source": [
        "## Create Mask"
      ],
      "metadata": {
        "id": "BzNPt9Ingsy_"
      }
    },
    {
      "cell_type": "code",
      "metadata": {
        "id": "OzQB4EuOmcpr"
      },
      "source": [
        "train_masks = []\n",
        "for sent in train_ids:\n",
        "    mask = [int(token_id > 0) for token_id in sent]\n",
        "    train_masks.append(mask)\n",
        "\n",
        "val_masks = []\n",
        "for sent in val_ids:\n",
        "    mask = [int(token_id > 0) for token_id in sent]\n",
        "    val_masks.append(mask)"
      ],
      "execution_count": null,
      "outputs": []
    },
    {
      "cell_type": "markdown",
      "source": [
        "## Create DataLoader"
      ],
      "metadata": {
        "id": "bWuTk8YAio9u"
      }
    },
    {
      "cell_type": "code",
      "metadata": {
        "id": "uwWPLCJGmcnJ"
      },
      "source": [
        "from torch.utils.data import TensorDataset, DataLoader, RandomSampler, SequentialSampler\n",
        "import torch\n",
        "train_inputs = torch.tensor(train_ids)\n",
        "val_inputs = torch.tensor(val_ids)\n",
        "train_labels = torch.tensor(train_labels)\n",
        "val_labels = torch.tensor(val_labels)\n",
        "train_masks = torch.tensor(train_masks)\n",
        "val_masks = torch.tensor(val_masks)\n",
        "\n",
        "train_data = TensorDataset(train_inputs, train_masks, train_labels)\n",
        "train_sampler = SequentialSampler(train_data)\n",
        "train_dataloader = DataLoader(train_data, sampler=train_sampler, batch_size=32)\n",
        "\n",
        "val_data = TensorDataset(val_inputs, val_masks, val_labels)\n",
        "val_sampler = SequentialSampler(val_data)\n",
        "val_dataloader = DataLoader(val_data, sampler=val_sampler, batch_size=32)"
      ],
      "execution_count": null,
      "outputs": []
    },
    {
      "cell_type": "code",
      "metadata": {
        "id": "tnWqjZ9BmccW",
        "colab": {
          "base_uri": "https://localhost:8080/"
        },
        "outputId": "6b5a3ed3-fbd6-48b1-dc25-ec2ebb0dff15"
      },
      "source": [
        "from transformers import RobertaForSequenceClassification, RobertaConfig, AdamW\n",
        "\n",
        "config = RobertaConfig.from_pretrained(\n",
        "    \"PhoBERT_base_transformers/config_2.json\", from_tf=False, num_labels = 3, output_hidden_states=False,\n",
        ")\n",
        "BERT_SA = RobertaForSequenceClassification.from_pretrained(\n",
        "    \"PhoBERT_base_transformers/model.bin\",\n",
        "    config=config\n",
        "    # num_labels = 3\n",
        ")"
      ],
      "execution_count": null,
      "outputs": [
        {
          "output_type": "stream",
          "name": "stderr",
          "text": [
            "You are using a model of type bert to instantiate a model of type roberta. This is not supported for all configurations of models and can yield errors.\n",
            "Some weights of the model checkpoint at PhoBERT_base_transformers/model.bin were not used when initializing RobertaForSequenceClassification: ['lm_head.layer_norm.weight', 'lm_head.dense.bias', 'roberta.pooler.dense.weight', 'lm_head.decoder.bias', 'lm_head.bias', 'lm_head.dense.weight', 'roberta.pooler.dense.bias', 'lm_head.layer_norm.bias', 'lm_head.decoder.weight']\n",
            "- This IS expected if you are initializing RobertaForSequenceClassification from the checkpoint of a model trained on another task or with another architecture (e.g. initializing a BertForSequenceClassification model from a BertForPreTraining model).\n",
            "- This IS NOT expected if you are initializing RobertaForSequenceClassification from the checkpoint of a model that you expect to be exactly identical (initializing a BertForSequenceClassification model from a BertForSequenceClassification model).\n",
            "Some weights of RobertaForSequenceClassification were not initialized from the model checkpoint at PhoBERT_base_transformers/model.bin and are newly initialized: ['classifier.dense.bias', 'classifier.out_proj.bias', 'classifier.dense.weight', 'classifier.out_proj.weight']\n",
            "You should probably TRAIN this model on a down-stream task to be able to use it for predictions and inference.\n"
          ]
        }
      ]
    },
    {
      "cell_type": "code",
      "metadata": {
        "id": "4MarHjppmaJv",
        "colab": {
          "base_uri": "https://localhost:8080/"
        },
        "outputId": "60b1db61-6020-4ad9-b170-8016945f2c23"
      },
      "source": [
        "BERT_SA.cuda()\n",
        "print('Done')"
      ],
      "execution_count": null,
      "outputs": [
        {
          "output_type": "stream",
          "name": "stdout",
          "text": [
            "Done\n"
          ]
        }
      ]
    },
    {
      "cell_type": "code",
      "metadata": {
        "id": "iWZ85RpEgNPG"
      },
      "source": [
        "import numpy as np\n",
        "from sklearn.metrics import f1_score, accuracy_score\n",
        "\n",
        "def flat_accuracy(preds, labels):\n",
        "    pred_flat = np.argmax(preds, axis=1).flatten()\n",
        "    labels_flat = labels.flatten()\n",
        "    \n",
        "    F1_score = f1_score(pred_flat, labels_flat, average='weighted')\n",
        "    \n",
        "    return accuracy_score(pred_flat, labels_flat), F1_score"
      ],
      "execution_count": null,
      "outputs": []
    },
    {
      "cell_type": "markdown",
      "source": [
        "# TRAIN"
      ],
      "metadata": {
        "id": "dyIiNYSXqzhC"
      }
    },
    {
      "cell_type": "code",
      "source": [
        "import random\n",
        "import tqdm\n",
        "device = 'cuda'\n",
        "epochs = 3\n",
        "\n",
        "param_optimizer = list(BERT_SA.named_parameters())\n",
        "no_decay = ['bias', 'LayerNorm.bias', 'LayerNorm.weight']\n",
        "optimizer_grouped_parameters = [\n",
        "    {'params': [p for n, p in param_optimizer if not any(nd in n for nd in no_decay)], 'weight_decay': 0.01},\n",
        "    {'params': [p for n, p in param_optimizer if any(nd in n for nd in no_decay)], 'weight_decay': 0.0}\n",
        "]\n",
        "\n",
        "optimizer = AdamW(optimizer_grouped_parameters, lr=1e-5, correct_bias=False, no_deprecation_warning=True)\n",
        "\n",
        "best_eval = 0\n",
        "for epoch_i in range(0, epochs):\n",
        "    print('======== Epoch {:} / {:} ========'.format(epoch_i + 1, epochs))\n",
        "    print('Training...')\n",
        "\n",
        "    total_loss = 0\n",
        "    BERT_SA.train()\n",
        "    train_accuracy = 0\n",
        "    nb_train_steps = 0\n",
        "    train_f1 = 0\n",
        "    \n",
        "    for step, batch in tqdm.notebook.tqdm(enumerate(train_dataloader)):\n",
        "        b_input_ids = batch[0].to(device)\n",
        "        b_input_mask = batch[1].to(device)\n",
        "        b_labels = batch[2].to(device)\n",
        "\n",
        "        BERT_SA.zero_grad()\n",
        "        outputs = BERT_SA(b_input_ids, \n",
        "            token_type_ids=None, \n",
        "            attention_mask=b_input_mask, \n",
        "            labels=b_labels)\n",
        "        loss = outputs[0]\n",
        "        total_loss += loss.item()\n",
        "        \n",
        "        logits = outputs[1].detach().cpu().numpy()\n",
        "        label_ids = b_labels.to('cpu').numpy()\n",
        "        tmp_train_accuracy, tmp_train_f1 = flat_accuracy(logits, label_ids)\n",
        "        train_accuracy += tmp_train_accuracy\n",
        "        train_f1 += tmp_train_f1\n",
        "        nb_train_steps += 1\n",
        "        \n",
        "        loss.backward()\n",
        "        torch.nn.utils.clip_grad_norm_(BERT_SA.parameters(), 1.0)\n",
        "        optimizer.step()\n",
        "        \n",
        "    avg_train_loss = total_loss / len(train_dataloader)\n",
        "    print(\" Accuracy: {0:.4f}\".format(train_accuracy/nb_train_steps))\n",
        "    print(\" F1 score: {0:.4f}\".format(train_f1/nb_train_steps))\n",
        "    print(\" Average training loss: {0:.4f}\".format(avg_train_loss))\n",
        "\n",
        "    print(\"Running Validation...\")\n",
        "    BERT_SA.eval()\n",
        "    eval_loss, eval_accuracy = 0, 0\n",
        "    nb_eval_steps, nb_eval_examples = 0, 0\n",
        "    eval_f1 = 0\n",
        "    \n",
        "    for batch in val_dataloader:\n",
        "\n",
        "        batch = tuple(t.to(device) for t in batch)\n",
        "\n",
        "        b_input_ids, b_input_mask, b_labels = batch\n",
        "\n",
        "        with torch.no_grad():\n",
        "            outputs = BERT_SA(b_input_ids, \n",
        "            token_type_ids=None, \n",
        "            attention_mask=b_input_mask)\n",
        "            logits = outputs[0]\n",
        "            logits = logits.detach().cpu().numpy()\n",
        "            label_ids = b_labels.to('cpu').numpy()\n",
        "\n",
        "            tmp_eval_accuracy, tmp_eval_f1 = flat_accuracy(logits, label_ids)\n",
        "\n",
        "            eval_accuracy += tmp_eval_accuracy\n",
        "            eval_f1 += tmp_eval_f1\n",
        "            nb_eval_steps += 1\n",
        "\n",
        "    print(\" Accuracy: {0:.4f}\".format(eval_accuracy/nb_eval_steps))\n",
        "    print(\" F1 score: {0:.4f}\".format(eval_f1/nb_eval_steps))\n",
        "    if (eval_accuracy/nb_eval_steps) > best_eval:\n",
        "      best_eval = (eval_accuracy/nb_eval_steps)\n",
        "      BERT_SA.save_pretrained(f'bert_pretrain/')\n",
        "      print('Saved Best Model!')\n",
        "\n",
        "print(\"Training complete!\")\n",
        "# BERT_SA.save_pretrained('bert_pretrain/')\n",
        "# print('Saved Pretrain!')"
      ],
      "metadata": {
        "id": "EF7mG366Kq1D",
        "colab": {
          "base_uri": "https://localhost:8080/",
          "height": 621,
          "referenced_widgets": [
            "1fa6f057be9c4b679b0d634918ed2b41",
            "44d23963bd7d4585b7ef6d13da888abe",
            "e1b997be344c40dfb4df60fa9e307d71",
            "eece311be61f4ac685633d4682206a5c",
            "5bf4311ca6954f02800db981dda8e4c3",
            "be144b96e9414acf93339bbeffb15cbe",
            "92631a439b384935a19e20eece45e13f",
            "399eb09fd9b844368ab2e3cb2cfdac8c",
            "d344a73f7f764030a5456eafeee8a062",
            "c753b5b6bb334d7d8ee0858f9e986242",
            "db6bfe3c01be4b03becd9316f50e954b",
            "e7d076f077654343b824212952f0806e",
            "6ba92c0e64324fa49225553576cbc36c",
            "f558fc9bb94c48ffafa7ed43183d245b",
            "bd8da20966a94e72a62b1dd67fc30b3b",
            "26f9d113db6048faa0fa5b0138d6f6c8",
            "bac73bb0dd1c41dfa33ed09923811eb7",
            "e570cf6666894b829dc398eb85ea6257",
            "2c033b3e216e473b86dfc832a839cdef",
            "3f8f2e5287e1431782ac400b6ba5e27f",
            "b0e9e3b334684102b29781fbc0390a1a",
            "2a6fd95038194affa095e948a4e3c2da",
            "cc198377c5b54904a8ca15c966afce45",
            "424703be973b4cbb98d7210dae7e54bd",
            "b135fe121bbd4d12baf318a3e2bd50e4",
            "4caf84715e9f483c99afeb464a778cf6",
            "467e142eedcb4f7397b3cc66ea593197",
            "c3e9caa5a7cd4fc0a9ad574a0630cbd7",
            "92d1b80ea8b24a1d86aa57f8d4bf766e",
            "b63de5c38df04ca5bb9e056fef35bbd8",
            "0ab663a610f64e6eb073642685f3aace",
            "1705012db8614430b96d786645ad8276",
            "b8998c06864b45f58f6da69b567ee56b"
          ]
        },
        "outputId": "150be817-e555-43e9-afd3-13fcc6b9435a"
      },
      "execution_count": null,
      "outputs": [
        {
          "output_type": "stream",
          "name": "stdout",
          "text": [
            "======== Epoch 1 / 3 ========\n",
            "Training...\n"
          ]
        },
        {
          "output_type": "display_data",
          "data": {
            "text/plain": [
              "0it [00:00, ?it/s]"
            ],
            "application/vnd.jupyter.widget-view+json": {
              "version_major": 2,
              "version_minor": 0,
              "model_id": "1fa6f057be9c4b679b0d634918ed2b41"
            }
          },
          "metadata": {}
        },
        {
          "output_type": "stream",
          "name": "stdout",
          "text": [
            " Accuracy: 0.7890\n",
            " F1 score: 0.8224\n",
            " Average training loss: 0.5274\n",
            "Running Validation...\n",
            " Accuracy: 0.8333\n",
            " F1 score: 0.8599\n",
            "Saved Best Model!\n",
            "======== Epoch 2 / 3 ========\n",
            "Training...\n"
          ]
        },
        {
          "output_type": "display_data",
          "data": {
            "text/plain": [
              "0it [00:00, ?it/s]"
            ],
            "application/vnd.jupyter.widget-view+json": {
              "version_major": 2,
              "version_minor": 0,
              "model_id": "e7d076f077654343b824212952f0806e"
            }
          },
          "metadata": {}
        },
        {
          "output_type": "stream",
          "name": "stdout",
          "text": [
            " Accuracy: 0.8452\n",
            " F1 score: 0.8636\n",
            " Average training loss: 0.3984\n",
            "Running Validation...\n",
            " Accuracy: 0.8429\n",
            " F1 score: 0.8583\n",
            "Saved Best Model!\n",
            "======== Epoch 3 / 3 ========\n",
            "Training...\n"
          ]
        },
        {
          "output_type": "display_data",
          "data": {
            "text/plain": [
              "0it [00:00, ?it/s]"
            ],
            "application/vnd.jupyter.widget-view+json": {
              "version_major": 2,
              "version_minor": 0,
              "model_id": "cc198377c5b54904a8ca15c966afce45"
            }
          },
          "metadata": {}
        },
        {
          "output_type": "stream",
          "name": "stdout",
          "text": [
            " Accuracy: 0.8642\n",
            " F1 score: 0.8764\n",
            " Average training loss: 0.3511\n",
            "Running Validation...\n",
            " Accuracy: 0.8457\n",
            " F1 score: 0.8578\n",
            "Saved Best Model!\n",
            "Training complete!\n"
          ]
        }
      ]
    },
    {
      "cell_type": "markdown",
      "source": [
        "# LOAD"
      ],
      "metadata": {
        "id": "uyvoycUNzm79"
      }
    },
    {
      "cell_type": "code",
      "source": [
        "config2 = RobertaConfig.from_pretrained(\n",
        "    \"PhoBERT_base_transformers/config_2.json\", from_tf=False, num_labels = 3, output_hidden_states=False,\n",
        ")\n",
        "BERT_SA2 = RobertaForSequenceClassification.from_pretrained(\n",
        "    \"bert_pretrain/\",\n",
        "    config=config2\n",
        ")"
      ],
      "metadata": {
        "id": "EV1mHn2MVFun",
        "colab": {
          "base_uri": "https://localhost:8080/"
        },
        "outputId": "c3eadd91-e214-460e-80c1-8da7ca6f940d"
      },
      "execution_count": null,
      "outputs": [
        {
          "output_type": "stream",
          "name": "stderr",
          "text": [
            "You are using a model of type bert to instantiate a model of type roberta. This is not supported for all configurations of models and can yield errors.\n"
          ]
        }
      ]
    },
    {
      "cell_type": "code",
      "source": [
        "%%capture\n",
        "from transformers import AutoTokenizer\n",
        "tkn = AutoTokenizer.from_pretrained(\"wonrax/phobert-base-vietnamese-sentiment\", use_fast=False)"
      ],
      "metadata": {
        "id": "AKWbssS9bOwE"
      },
      "execution_count": null,
      "outputs": []
    },
    {
      "cell_type": "code",
      "source": [
        "def BERT_Predict(text):\n",
        "  \"\"\"\n",
        "  ['NEG', 'NEU', 'POS']\n",
        "  [' 0 ', ' 1 ', ' 2 ']\n",
        "  \"\"\"\n",
        "  inputs = tkn(text, return_tensors=\"pt\")\n",
        "\n",
        "  with torch.no_grad():\n",
        "      logits = BERT_SA2(**inputs).logits\n",
        "  predicted_class_id = logits.argmax().item()\n",
        "  # predicted_class_id = logits.softmax(dim=-1).tolist()\n",
        "  return predicted_class_id\n",
        "  \n",
        "# class_names = ['NEG', 'NEU', 'POS']\n",
        "# print(class_names[predicted_class_id])"
      ],
      "metadata": {
        "id": "qdF3dAK2B_O7"
      },
      "execution_count": null,
      "outputs": []
    },
    {
      "cell_type": "code",
      "source": [
        "test_pred = []\n",
        "for cmt in test_text:\n",
        "  test_pred.append(BERT_Predict(cmt))"
      ],
      "metadata": {
        "id": "-tO7_N7PD7JS"
      },
      "execution_count": null,
      "outputs": []
    },
    {
      "cell_type": "code",
      "source": [
        "def flat_accuracy(preds, labels):\n",
        "  preds = np.array(preds)\n",
        "  labels = np.array(labels)\n",
        "  F1_weighted = f1_score(preds, labels, average='weighted')\n",
        "  print('Acc: ',accuracy_score(preds, labels), '\\nf1 weighted: ', F1_weighted)"
      ],
      "metadata": {
        "id": "Ztn30EBDF8gy"
      },
      "execution_count": null,
      "outputs": []
    },
    {
      "cell_type": "code",
      "source": [
        "flat_accuracy(test_pred,test_labels)"
      ],
      "metadata": {
        "id": "S8DtKikqGDJR",
        "colab": {
          "base_uri": "https://localhost:8080/"
        },
        "outputId": "d3ae99b6-7217-4c5c-dccf-0ff34c34a656"
      },
      "execution_count": null,
      "outputs": [
        {
          "output_type": "stream",
          "name": "stdout",
          "text": [
            "Acc:  0.8553846153846154 \n",
            "f1 weighted:  0.8530413449325531\n"
          ]
        }
      ]
    },
    {
      "cell_type": "code",
      "source": [
        "BERT_Predict('Không có lỗi và rất đáng tiền.')"
      ],
      "metadata": {
        "colab": {
          "base_uri": "https://localhost:8080/"
        },
        "id": "JWUQmmeqYA7a",
        "outputId": "7f25e5fa-3901-473b-cf91-06410132f4e9"
      },
      "execution_count": null,
      "outputs": [
        {
          "output_type": "execute_result",
          "data": {
            "text/plain": [
              "2"
            ]
          },
          "metadata": {},
          "execution_count": 37
        }
      ]
    },
    {
      "cell_type": "code",
      "source": [
        "df_result = pd.DataFrame({'comment': test_text, 'label': test_pred, 'predict': test_labels})\n",
        "df_result"
      ],
      "metadata": {
        "colab": {
          "base_uri": "https://localhost:8080/"
        },
        "id": "iS3J_B9iYiwX",
        "outputId": "eb1dec9e-cf9c-40a3-d568-4754d21b6afd"
      },
      "execution_count": null,
      "outputs": [
        {
          "output_type": "execute_result",
          "data": {
            "text/plain": [
              "                                                comment  label  predict\n",
              "0               Đóng_gói sản_phẩm rất đẹp và chắc_chắn.      2        2\n",
              "1     Toan đựng bọn ngu phá_hại lên làm quan nên dân...      0        0\n",
              "2                  Sản_phẩm đẹp lắm ạ, rất đáng để mua.      2        2\n",
              "3     ở ngoài tao mà gặp kiểu này t bắt lại cho anh ...      0        0\n",
              "4                        Áo vải đẹp, form quá ưng luôn.      2        2\n",
              "...                                                 ...    ...      ...\n",
              "3570  - Sản_Phẩm Tuyệt_Vời : v Chị Shop_Phụ_Phụ_Rất ...      2        2\n",
              "3571                         Mua đồ chỗ shop ưng_ý lắm.      2        2\n",
              "3572  cô dạy dễ hiểu, giải bài_tập hướng_dẫn chúng_e...      2        2\n",
              "3573  Cá chết vẫn chưa rõ nguyên_nhân, biển thì vẫn ...      0        0\n",
              "3574  Ai đã sử_dụng hàng Mỹ rồi thì chỉ cần ngửi mùi...      0        1\n",
              "\n",
              "[3575 rows x 3 columns]"
            ],
            "text/html": [
              "\n",
              "  <div id=\"df-918cfc70-0a94-441f-9599-790a90597b03\">\n",
              "    <div class=\"colab-df-container\">\n",
              "      <div>\n",
              "<style scoped>\n",
              "    .dataframe tbody tr th:only-of-type {\n",
              "        vertical-align: middle;\n",
              "    }\n",
              "\n",
              "    .dataframe tbody tr th {\n",
              "        vertical-align: top;\n",
              "    }\n",
              "\n",
              "    .dataframe thead th {\n",
              "        text-align: right;\n",
              "    }\n",
              "</style>\n",
              "<table border=\"1\" class=\"dataframe\">\n",
              "  <thead>\n",
              "    <tr style=\"text-align: right;\">\n",
              "      <th></th>\n",
              "      <th>comment</th>\n",
              "      <th>label</th>\n",
              "      <th>predict</th>\n",
              "    </tr>\n",
              "  </thead>\n",
              "  <tbody>\n",
              "    <tr>\n",
              "      <th>0</th>\n",
              "      <td>Đóng_gói sản_phẩm rất đẹp và chắc_chắn.</td>\n",
              "      <td>2</td>\n",
              "      <td>2</td>\n",
              "    </tr>\n",
              "    <tr>\n",
              "      <th>1</th>\n",
              "      <td>Toan đựng bọn ngu phá_hại lên làm quan nên dân...</td>\n",
              "      <td>0</td>\n",
              "      <td>0</td>\n",
              "    </tr>\n",
              "    <tr>\n",
              "      <th>2</th>\n",
              "      <td>Sản_phẩm đẹp lắm ạ, rất đáng để mua.</td>\n",
              "      <td>2</td>\n",
              "      <td>2</td>\n",
              "    </tr>\n",
              "    <tr>\n",
              "      <th>3</th>\n",
              "      <td>ở ngoài tao mà gặp kiểu này t bắt lại cho anh ...</td>\n",
              "      <td>0</td>\n",
              "      <td>0</td>\n",
              "    </tr>\n",
              "    <tr>\n",
              "      <th>4</th>\n",
              "      <td>Áo vải đẹp, form quá ưng luôn.</td>\n",
              "      <td>2</td>\n",
              "      <td>2</td>\n",
              "    </tr>\n",
              "    <tr>\n",
              "      <th>...</th>\n",
              "      <td>...</td>\n",
              "      <td>...</td>\n",
              "      <td>...</td>\n",
              "    </tr>\n",
              "    <tr>\n",
              "      <th>3570</th>\n",
              "      <td>- Sản_Phẩm Tuyệt_Vời : v Chị Shop_Phụ_Phụ_Rất ...</td>\n",
              "      <td>2</td>\n",
              "      <td>2</td>\n",
              "    </tr>\n",
              "    <tr>\n",
              "      <th>3571</th>\n",
              "      <td>Mua đồ chỗ shop ưng_ý lắm.</td>\n",
              "      <td>2</td>\n",
              "      <td>2</td>\n",
              "    </tr>\n",
              "    <tr>\n",
              "      <th>3572</th>\n",
              "      <td>cô dạy dễ hiểu, giải bài_tập hướng_dẫn chúng_e...</td>\n",
              "      <td>2</td>\n",
              "      <td>2</td>\n",
              "    </tr>\n",
              "    <tr>\n",
              "      <th>3573</th>\n",
              "      <td>Cá chết vẫn chưa rõ nguyên_nhân, biển thì vẫn ...</td>\n",
              "      <td>0</td>\n",
              "      <td>0</td>\n",
              "    </tr>\n",
              "    <tr>\n",
              "      <th>3574</th>\n",
              "      <td>Ai đã sử_dụng hàng Mỹ rồi thì chỉ cần ngửi mùi...</td>\n",
              "      <td>0</td>\n",
              "      <td>1</td>\n",
              "    </tr>\n",
              "  </tbody>\n",
              "</table>\n",
              "<p>3575 rows × 3 columns</p>\n",
              "</div>\n",
              "      <button class=\"colab-df-convert\" onclick=\"convertToInteractive('df-918cfc70-0a94-441f-9599-790a90597b03')\"\n",
              "              title=\"Convert this dataframe to an interactive table.\"\n",
              "              style=\"display:none;\">\n",
              "        \n",
              "  <svg xmlns=\"http://www.w3.org/2000/svg\" height=\"24px\"viewBox=\"0 0 24 24\"\n",
              "       width=\"24px\">\n",
              "    <path d=\"M0 0h24v24H0V0z\" fill=\"none\"/>\n",
              "    <path d=\"M18.56 5.44l.94 2.06.94-2.06 2.06-.94-2.06-.94-.94-2.06-.94 2.06-2.06.94zm-11 1L8.5 8.5l.94-2.06 2.06-.94-2.06-.94L8.5 2.5l-.94 2.06-2.06.94zm10 10l.94 2.06.94-2.06 2.06-.94-2.06-.94-.94-2.06-.94 2.06-2.06.94z\"/><path d=\"M17.41 7.96l-1.37-1.37c-.4-.4-.92-.59-1.43-.59-.52 0-1.04.2-1.43.59L10.3 9.45l-7.72 7.72c-.78.78-.78 2.05 0 2.83L4 21.41c.39.39.9.59 1.41.59.51 0 1.02-.2 1.41-.59l7.78-7.78 2.81-2.81c.8-.78.8-2.07 0-2.86zM5.41 20L4 18.59l7.72-7.72 1.47 1.35L5.41 20z\"/>\n",
              "  </svg>\n",
              "      </button>\n",
              "      \n",
              "  <style>\n",
              "    .colab-df-container {\n",
              "      display:flex;\n",
              "      flex-wrap:wrap;\n",
              "      gap: 12px;\n",
              "    }\n",
              "\n",
              "    .colab-df-convert {\n",
              "      background-color: #E8F0FE;\n",
              "      border: none;\n",
              "      border-radius: 50%;\n",
              "      cursor: pointer;\n",
              "      display: none;\n",
              "      fill: #1967D2;\n",
              "      height: 32px;\n",
              "      padding: 0 0 0 0;\n",
              "      width: 32px;\n",
              "    }\n",
              "\n",
              "    .colab-df-convert:hover {\n",
              "      background-color: #E2EBFA;\n",
              "      box-shadow: 0px 1px 2px rgba(60, 64, 67, 0.3), 0px 1px 3px 1px rgba(60, 64, 67, 0.15);\n",
              "      fill: #174EA6;\n",
              "    }\n",
              "\n",
              "    [theme=dark] .colab-df-convert {\n",
              "      background-color: #3B4455;\n",
              "      fill: #D2E3FC;\n",
              "    }\n",
              "\n",
              "    [theme=dark] .colab-df-convert:hover {\n",
              "      background-color: #434B5C;\n",
              "      box-shadow: 0px 1px 3px 1px rgba(0, 0, 0, 0.15);\n",
              "      filter: drop-shadow(0px 1px 2px rgba(0, 0, 0, 0.3));\n",
              "      fill: #FFFFFF;\n",
              "    }\n",
              "  </style>\n",
              "\n",
              "      <script>\n",
              "        const buttonEl =\n",
              "          document.querySelector('#df-918cfc70-0a94-441f-9599-790a90597b03 button.colab-df-convert');\n",
              "        buttonEl.style.display =\n",
              "          google.colab.kernel.accessAllowed ? 'block' : 'none';\n",
              "\n",
              "        async function convertToInteractive(key) {\n",
              "          const element = document.querySelector('#df-918cfc70-0a94-441f-9599-790a90597b03');\n",
              "          const dataTable =\n",
              "            await google.colab.kernel.invokeFunction('convertToInteractive',\n",
              "                                                     [key], {});\n",
              "          if (!dataTable) return;\n",
              "\n",
              "          const docLinkHtml = 'Like what you see? Visit the ' +\n",
              "            '<a target=\"_blank\" href=https://colab.research.google.com/notebooks/data_table.ipynb>data table notebook</a>'\n",
              "            + ' to learn more about interactive tables.';\n",
              "          element.innerHTML = '';\n",
              "          dataTable['output_type'] = 'display_data';\n",
              "          await google.colab.output.renderOutput(dataTable, element);\n",
              "          const docLink = document.createElement('div');\n",
              "          docLink.innerHTML = docLinkHtml;\n",
              "          element.appendChild(docLink);\n",
              "        }\n",
              "      </script>\n",
              "    </div>\n",
              "  </div>\n",
              "  "
            ]
          },
          "metadata": {},
          "execution_count": 38
        }
      ]
    }
  ]
}